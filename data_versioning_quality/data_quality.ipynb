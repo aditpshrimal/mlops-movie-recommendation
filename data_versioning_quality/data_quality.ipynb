{
 "cells": [
  {
   "cell_type": "code",
   "execution_count": 2,
   "id": "8f3fcd48-84ea-4e85-ae41-ca14a4a95290",
   "metadata": {},
   "outputs": [],
   "source": [
    "import random\n",
    "import implicit\n",
    "import mlflow\n",
    "import numpy as np\n",
    "import pandas as pd\n",
    "import scipy.sparse as sparse\n",
    "import pickle\n",
    "import wandb\n",
    "import optuna\n",
    "from sklearn.model_selection import train_test_split"
   ]
  },
  {
   "cell_type": "code",
   "execution_count": 5,
   "id": "f3ef3052",
   "metadata": {},
   "outputs": [
    {
     "name": "stderr",
     "output_type": "stream",
     "text": [
      "/var/folders/f4/x8rpzln53m74t22gm11_r1f80000gn/T/ipykernel_58366/2958327771.py:3: NeptuneDeprecationWarning: You're importing the Neptune client library via the deprecated `neptune.new` module, which will be removed in a future release. Import directly from `neptune` instead.\n",
      "  import neptune.new as neptune\n"
     ]
    }
   ],
   "source": [
    "# Data Versioning with DVC and DagsHub\n",
    "import dvc.api\n",
    "import neptune.new as neptune"
   ]
  },
  {
   "cell_type": "code",
   "execution_count": 8,
   "id": "dbab0e7f",
   "metadata": {},
   "outputs": [
    {
     "name": "stderr",
     "output_type": "stream",
     "text": [
      "/Users/aditshrimal/opt/anaconda3/envs/mlops/lib/python3.9/site-packages/great_expectations/compatibility/sqlalchemy.py:20: UserWarning: SQLAlchemy v2.0.0 or later is not yet supported by Great Expectations.\n",
      "  warnings.warn(\n"
     ]
    },
    {
     "ename": "ImportError",
     "evalue": "cannot import name 'check_distribution' from 'deepchecks' (/Users/aditshrimal/opt/anaconda3/envs/mlops/lib/python3.9/site-packages/deepchecks/__init__.py)",
     "output_type": "error",
     "traceback": [
      "\u001b[0;31m---------------------------------------------------------------------------\u001b[0m",
      "\u001b[0;31mImportError\u001b[0m                               Traceback (most recent call last)",
      "Cell \u001b[0;32mIn[8], line 3\u001b[0m\n\u001b[1;32m      1\u001b[0m \u001b[39m# Data Quality with Great Expectations and Deepchecks\u001b[39;00m\n\u001b[1;32m      2\u001b[0m \u001b[39mimport\u001b[39;00m \u001b[39mgreat_expectations\u001b[39;00m \u001b[39mas\u001b[39;00m \u001b[39mge\u001b[39;00m\n\u001b[0;32m----> 3\u001b[0m \u001b[39mfrom\u001b[39;00m \u001b[39mdeepchecks\u001b[39;00m \u001b[39mimport\u001b[39;00m Dataset, check_distribution, check_labeling\n",
      "\u001b[0;31mImportError\u001b[0m: cannot import name 'check_distribution' from 'deepchecks' (/Users/aditshrimal/opt/anaconda3/envs/mlops/lib/python3.9/site-packages/deepchecks/__init__.py)"
     ]
    }
   ],
   "source": [
    "# Data Quality with Great Expectations and Deepchecks\n",
    "import great_expectations as ge\n",
    "from deepchecks import Dataset, "
   ]
  },
  {
   "cell_type": "code",
   "execution_count": 2,
   "id": "c160e297",
   "metadata": {},
   "outputs": [],
   "source": [
    "def create_user_item_matrix(model):\n",
    "    return model.user_factors.dot(model.item_factors.T)"
   ]
  },
  {
   "cell_type": "code",
   "execution_count": 3,
   "id": "999463a2",
   "metadata": {},
   "outputs": [],
   "source": [
    "def mse(user_item_matrix, sparse_matrix):\n",
    "    user_item_array = np.asarray(user_item_matrix)\n",
    "    test_indices = np.asarray(sparse_matrix.nonzero()).T\n",
    "    true_ratings = sparse_matrix[test_indices[:, 0], test_indices[:, 1]].A1\n",
    "    predicted_ratings = user_item_array[test_indices[:, 0], test_indices[:, 1]]\n",
    "\n",
    "    mse_sum = np.sum((true_ratings - predicted_ratings) ** 2)\n",
    "    n_total = len(test_indices)\n",
    "    return mse_sum / n_total"
   ]
  },
  {
   "cell_type": "code",
   "execution_count": 4,
   "id": "afca4218-8a9c-42fe-a16b-e82cd9c1380f",
   "metadata": {},
   "outputs": [],
   "source": [
    "df = pd.read_csv(\"data/Movies_and_TV.csv\", header=None)\n",
    "df = df.sample(frac=0.2, random_state=42)\n",
    "df.columns = [\"asin\", \"reviewerId\", \"overallRating\", \"timestamp\"]"
   ]
  },
  {
   "cell_type": "code",
   "execution_count": 5,
   "id": "e35eeaa3-4487-4c6d-bd0a-940bee2ed703",
   "metadata": {},
   "outputs": [
    {
     "data": {
      "text/html": [
       "<div>\n",
       "<style scoped>\n",
       "    .dataframe tbody tr th:only-of-type {\n",
       "        vertical-align: middle;\n",
       "    }\n",
       "\n",
       "    .dataframe tbody tr th {\n",
       "        vertical-align: top;\n",
       "    }\n",
       "\n",
       "    .dataframe thead th {\n",
       "        text-align: right;\n",
       "    }\n",
       "</style>\n",
       "<table border=\"1\" class=\"dataframe\">\n",
       "  <thead>\n",
       "    <tr style=\"text-align: right;\">\n",
       "      <th></th>\n",
       "      <th>asin</th>\n",
       "      <th>reviewerId</th>\n",
       "      <th>overallRating</th>\n",
       "      <th>timestamp</th>\n",
       "    </tr>\n",
       "  </thead>\n",
       "  <tbody>\n",
       "    <tr>\n",
       "      <th>1725463</th>\n",
       "      <td>B000068M9Q</td>\n",
       "      <td>A2YNL0PAKAQPRQ</td>\n",
       "      <td>5.0</td>\n",
       "      <td>1337904000</td>\n",
       "    </tr>\n",
       "    <tr>\n",
       "      <th>119791</th>\n",
       "      <td>0790751143</td>\n",
       "      <td>A3AY3EV2MFRFGG</td>\n",
       "      <td>4.0</td>\n",
       "      <td>1007942400</td>\n",
       "    </tr>\n",
       "    <tr>\n",
       "      <th>506989</th>\n",
       "      <td>6302734924</td>\n",
       "      <td>A2YXSFEPARKGGW</td>\n",
       "      <td>5.0</td>\n",
       "      <td>1517011200</td>\n",
       "    </tr>\n",
       "    <tr>\n",
       "      <th>412413</th>\n",
       "      <td>6301966554</td>\n",
       "      <td>ARQFX2LPCQMNZ</td>\n",
       "      <td>5.0</td>\n",
       "      <td>1198368000</td>\n",
       "    </tr>\n",
       "    <tr>\n",
       "      <th>1409559</th>\n",
       "      <td>B000059TON</td>\n",
       "      <td>A1DH4WGH5NZ1I0</td>\n",
       "      <td>1.0</td>\n",
       "      <td>1024617600</td>\n",
       "    </tr>\n",
       "  </tbody>\n",
       "</table>\n",
       "</div>"
      ],
      "text/plain": [
       "               asin      reviewerId  overallRating   timestamp\n",
       "1725463  B000068M9Q  A2YNL0PAKAQPRQ            5.0  1337904000\n",
       "119791   0790751143  A3AY3EV2MFRFGG            4.0  1007942400\n",
       "506989   6302734924  A2YXSFEPARKGGW            5.0  1517011200\n",
       "412413   6301966554   ARQFX2LPCQMNZ            5.0  1198368000\n",
       "1409559  B000059TON  A1DH4WGH5NZ1I0            1.0  1024617600"
      ]
     },
     "execution_count": 5,
     "metadata": {},
     "output_type": "execute_result"
    }
   ],
   "source": [
    "df.head()"
   ]
  },
  {
   "cell_type": "code",
   "execution_count": 6,
   "id": "475598ae-b714-47ec-9bfa-934291a72f26",
   "metadata": {},
   "outputs": [],
   "source": [
    "df.sort_values(\"timestamp\", inplace=True)"
   ]
  },
  {
   "cell_type": "code",
   "execution_count": 7,
   "id": "07a39785-0625-43ac-be1d-3edbc240bfec",
   "metadata": {},
   "outputs": [],
   "source": [
    "df[\"user_id\"] = df[\"reviewerId\"]\n",
    "df[\"item_id\"] = df[\"asin\"]\n",
    "\n",
    "df[\"reviewerId\"] = df[\"reviewerId\"].astype(\"category\").cat.codes.values\n",
    "df[\"asin\"] = df[\"asin\"].astype(\"category\").cat.codes.values"
   ]
  },
  {
   "cell_type": "code",
   "execution_count": 8,
   "id": "c95eb76e",
   "metadata": {},
   "outputs": [],
   "source": [
    "train_df, test_df = train_test_split(df, test_size=0.2, random_state=42)"
   ]
  },
  {
   "cell_type": "code",
   "execution_count": 9,
   "id": "1d102427-0e65-416e-982c-8d5026908163",
   "metadata": {},
   "outputs": [],
   "source": [
    "sparse_item_user_train = sparse.csr_matrix(\n",
    "    (train_df[\"overallRating\"], (train_df[\"asin\"], train_df[\"reviewerId\"]))\n",
    ")\n",
    "sparse_user_item_train = sparse.csr_matrix(\n",
    "    (train_df[\"overallRating\"], (train_df[\"reviewerId\"], train_df[\"asin\"]))\n",
    ")\n",
    "\n",
    "sparse_item_user_test = sparse.csr_matrix(\n",
    "    (test_df[\"overallRating\"], (test_df[\"asin\"], test_df[\"reviewerId\"]))\n",
    ")\n",
    "sparse_user_item_test = sparse.csr_matrix(\n",
    "    (test_df[\"overallRating\"], (test_df[\"reviewerId\"], test_df[\"asin\"]))\n",
    ")"
   ]
  },
  {
   "cell_type": "code",
   "execution_count": 10,
   "id": "ed947c94",
   "metadata": {},
   "outputs": [],
   "source": [
    "def objective(trial):\n",
    "    factors = trial.suggest_int('factors', 10, 50)\n",
    "    regularization = trial.suggest_loguniform('regularization', 1e-5, 1e-1)\n",
    "    iterations = trial.suggest_int('iterations', 10, 50)\n",
    "    alpha_val = trial.suggest_int('alpha_val', 10, 100)\n",
    "\n",
    "    model = implicit.als.AlternatingLeastSquares(\n",
    "        factors=factors, regularization=regularization, iterations=iterations\n",
    "    )\n",
    "    data_conf = (sparse_user_item_train * alpha_val).astype(\"double\")\n",
    "    model.fit(data_conf)\n",
    "\n",
    "    user_item_matrix = create_user_item_matrix(model)\n",
    "    test_mse = mse(user_item_matrix, sparse_user_item_test)\n",
    "\n",
    "    return test_mse"
   ]
  },
  {
   "cell_type": "code",
   "execution_count": 13,
   "id": "07c9fdc4",
   "metadata": {},
   "outputs": [
    {
     "name": "stderr",
     "output_type": "stream",
     "text": [
      "\u001b[32m[I 2023-05-04 14:28:18,671]\u001b[0m A new study created in memory with name: no-name-2896b639-4c54-475d-961e-3421f7e1d95f\u001b[0m\n",
      "/var/folders/f4/x8rpzln53m74t22gm11_r1f80000gn/T/ipykernel_57658/702507724.py:3: FutureWarning: suggest_loguniform has been deprecated in v3.0.0. This feature will be removed in v6.0.0. See https://github.com/optuna/optuna/releases/tag/v3.0.0. Use :func:`~optuna.trial.Trial.suggest_float` instead.\n",
      "  regularization = trial.suggest_loguniform('regularization', 1e-5, 1e-1)\n",
      "100%|██████████| 12/12 [00:06<00:00,  1.92it/s]\n",
      "\u001b[32m[I 2023-05-04 14:28:37,173]\u001b[0m Trial 0 finished with value: 19.546539547290937 and parameters: {'factors': 10, 'regularization': 0.00010815507989440974, 'iterations': 12, 'alpha_val': 86}. Best is trial 0 with value: 19.546539547290937.\u001b[0m\n",
      "100%|██████████| 25/25 [00:14<00:00,  1.74it/s]\n",
      "\u001b[32m[I 2023-05-04 14:29:03,867]\u001b[0m Trial 1 finished with value: 19.538747404151714 and parameters: {'factors': 13, 'regularization': 0.00038579792933126, 'iterations': 25, 'alpha_val': 66}. Best is trial 1 with value: 19.538747404151714.\u001b[0m\n",
      "100%|██████████| 32/32 [00:31<00:00,  1.00it/s]\n",
      "\u001b[32m[I 2023-05-04 14:29:51,055]\u001b[0m Trial 2 finished with value: 19.70043752446118 and parameters: {'factors': 50, 'regularization': 0.016611645140109862, 'iterations': 32, 'alpha_val': 21}. Best is trial 1 with value: 19.538747404151714.\u001b[0m\n",
      "100%|██████████| 36/36 [00:28<00:00,  1.28it/s]\n",
      "\u001b[32m[I 2023-05-04 14:30:33,300]\u001b[0m Trial 3 finished with value: 19.632844440127933 and parameters: {'factors': 34, 'regularization': 2.0692793298615062e-05, 'iterations': 36, 'alpha_val': 36}. Best is trial 1 with value: 19.538747404151714.\u001b[0m\n",
      "100%|██████████| 38/38 [00:19<00:00,  1.95it/s]\n",
      "\u001b[32m[I 2023-05-04 14:31:04,746]\u001b[0m Trial 4 finished with value: 19.523626903943374 and parameters: {'factors': 10, 'regularization': 0.00033653795517320294, 'iterations': 38, 'alpha_val': 56}. Best is trial 4 with value: 19.523626903943374.\u001b[0m\n"
     ]
    }
   ],
   "source": [
    "study = optuna.create_study(direction='minimize')\n",
    "study.optimize(objective, n_trials=5)"
   ]
  },
  {
   "cell_type": "code",
   "execution_count": 14,
   "id": "d04e6976",
   "metadata": {},
   "outputs": [],
   "source": [
    "best_params = study.best_params"
   ]
  },
  {
   "cell_type": "code",
   "execution_count": 15,
   "id": "dcb43641",
   "metadata": {},
   "outputs": [
    {
     "name": "stderr",
     "output_type": "stream",
     "text": [
      "2023/05/04 14:32:23 INFO mlflow.store.db.utils: Creating initial MLflow database tables...\n",
      "2023/05/04 14:32:23 INFO mlflow.store.db.utils: Updating database tables\n",
      "INFO  [alembic.runtime.migration] Context impl SQLiteImpl.\n",
      "INFO  [alembic.runtime.migration] Will assume non-transactional DDL.\n",
      "INFO  [alembic.runtime.migration] Context impl SQLiteImpl.\n",
      "INFO  [alembic.runtime.migration] Will assume non-transactional DDL.\n"
     ]
    },
    {
     "data": {
      "text/plain": [
       "<Experiment: artifact_location='/Users/aditshrimal/Desktop/MSDS/Spring2/case_studies_ml/project/mlruns/1', creation_time=1680035050222, experiment_id='1', last_update_time=1680035050222, lifecycle_stage='active', name='aws-rec-experiment', tags={}>"
      ]
     },
     "execution_count": 15,
     "metadata": {},
     "output_type": "execute_result"
    }
   ],
   "source": [
    "mlflow.set_tracking_uri('sqlite:///mlflow.db')\n",
    "mlflow.set_experiment('aws-rec-experiment')"
   ]
  },
  {
   "cell_type": "code",
   "execution_count": 16,
   "id": "994eea03",
   "metadata": {},
   "outputs": [
    {
     "name": "stderr",
     "output_type": "stream",
     "text": [
      "ERROR [wandb.jupyter] Failed to detect the name of this notebook, you can set it manually with the WANDB_NOTEBOOK_NAME environment variable to enable code saving.\n",
      "\u001b[34m\u001b[1mwandb\u001b[0m: Currently logged in as: \u001b[33mashrimal2\u001b[0m. Use \u001b[1m`wandb login --relogin`\u001b[0m to force relogin\n"
     ]
    },
    {
     "data": {
      "text/html": [
       "wandb version 0.15.1 is available!  To upgrade, please run:\n",
       " $ pip install wandb --upgrade"
      ],
      "text/plain": [
       "<IPython.core.display.HTML object>"
      ]
     },
     "metadata": {},
     "output_type": "display_data"
    },
    {
     "data": {
      "text/html": [
       "Tracking run with wandb version 0.14.0"
      ],
      "text/plain": [
       "<IPython.core.display.HTML object>"
      ]
     },
     "metadata": {},
     "output_type": "display_data"
    },
    {
     "data": {
      "text/html": [
       "Run data is saved locally in <code>/Users/aditshrimal/Desktop/MSDS/Spring2/case_studies_ml/project/wandb/run-20230504_143512-0wc14dar</code>"
      ],
      "text/plain": [
       "<IPython.core.display.HTML object>"
      ]
     },
     "metadata": {},
     "output_type": "display_data"
    },
    {
     "data": {
      "text/html": [
       "Syncing run <strong><a href='https://wandb.ai/ashrimal2/movie_recommendation/runs/0wc14dar' target=\"_blank\">imperial-midichlorian-5</a></strong> to <a href='https://wandb.ai/ashrimal2/movie_recommendation' target=\"_blank\">Weights & Biases</a> (<a href='https://wandb.me/run' target=\"_blank\">docs</a>)<br/>"
      ],
      "text/plain": [
       "<IPython.core.display.HTML object>"
      ]
     },
     "metadata": {},
     "output_type": "display_data"
    },
    {
     "data": {
      "text/html": [
       " View project at <a href='https://wandb.ai/ashrimal2/movie_recommendation' target=\"_blank\">https://wandb.ai/ashrimal2/movie_recommendation</a>"
      ],
      "text/plain": [
       "<IPython.core.display.HTML object>"
      ]
     },
     "metadata": {},
     "output_type": "display_data"
    },
    {
     "data": {
      "text/html": [
       " View run at <a href='https://wandb.ai/ashrimal2/movie_recommendation/runs/0wc14dar' target=\"_blank\">https://wandb.ai/ashrimal2/movie_recommendation/runs/0wc14dar</a>"
      ],
      "text/plain": [
       "<IPython.core.display.HTML object>"
      ]
     },
     "metadata": {},
     "output_type": "display_data"
    },
    {
     "name": "stderr",
     "output_type": "stream",
     "text": [
      "100%|██████████| 38/38 [00:19<00:00,  1.91it/s]\n"
     ]
    },
    {
     "data": {
      "text/html": [
       "Waiting for W&B process to finish... <strong style=\"color:green\">(success).</strong>"
      ],
      "text/plain": [
       "<IPython.core.display.HTML object>"
      ]
     },
     "metadata": {},
     "output_type": "display_data"
    },
    {
     "data": {
      "text/html": [
       "<style>\n",
       "    table.wandb td:nth-child(1) { padding: 0 10px; text-align: left ; width: auto;} td:nth-child(2) {text-align: left ; width: 100%}\n",
       "    .wandb-row { display: flex; flex-direction: row; flex-wrap: wrap; justify-content: flex-start; width: 100% }\n",
       "    .wandb-col { display: flex; flex-direction: column; flex-basis: 100%; flex: 1; padding: 10px; }\n",
       "    </style>\n",
       "<div class=\"wandb-row\"><div class=\"wandb-col\"><h3>Run history:</h3><br/><table class=\"wandb\"><tr><td>test_mse</td><td>▁</td></tr></table><br/></div><div class=\"wandb-col\"><h3>Run summary:</h3><br/><table class=\"wandb\"><tr><td>test_mse</td><td>19.52293</td></tr></table><br/></div></div>"
      ],
      "text/plain": [
       "<IPython.core.display.HTML object>"
      ]
     },
     "metadata": {},
     "output_type": "display_data"
    },
    {
     "data": {
      "text/html": [
       " View run <strong style=\"color:#cdcd00\">imperial-midichlorian-5</strong> at: <a href='https://wandb.ai/ashrimal2/movie_recommendation/runs/0wc14dar' target=\"_blank\">https://wandb.ai/ashrimal2/movie_recommendation/runs/0wc14dar</a><br/>Synced 6 W&B file(s), 0 media file(s), 1 artifact file(s) and 0 other file(s)"
      ],
      "text/plain": [
       "<IPython.core.display.HTML object>"
      ]
     },
     "metadata": {},
     "output_type": "display_data"
    },
    {
     "data": {
      "text/html": [
       "Find logs at: <code>./wandb/run-20230504_143512-0wc14dar/logs</code>"
      ],
      "text/plain": [
       "<IPython.core.display.HTML object>"
      ]
     },
     "metadata": {},
     "output_type": "display_data"
    }
   ],
   "source": [
    "# Initialize a new run\n",
    "wandb.init(project=\"movie_recommendation\", config=best_params)\n",
    "\n",
    "with mlflow.start_run():\n",
    "    factors = best_params['factors']\n",
    "    regularization = best_params['regularization']\n",
    "    iterations = best_params['iterations']\n",
    "    alpha_val = best_params['alpha_val']\n",
    "\n",
    "    model = implicit.als.AlternatingLeastSquares(\n",
    "        factors=factors, regularization=regularization, iterations=iterations\n",
    "    )\n",
    "    data_conf = (sparse_user_item_train * alpha_val).astype(\"double\")\n",
    "    model.fit(data_conf)\n",
    "\n",
    "    mlflow.set_tags({\"Model\":\"ALS\", \"Train Data\": \"all-data\"})    \n",
    "    mlflow.log_params(best_params)\n",
    "\n",
    "    user_item_matrix = create_user_item_matrix(model)\n",
    "    test_mse = mse(user_item_matrix, sparse_user_item_test)\n",
    "\n",
    "    # Log the performance metrics\n",
    "    mlflow.log_metric(\"test_mse\", test_mse)\n",
    "    wandb.log({\"test_mse\": test_mse})\n",
    "\n",
    "    model_save_path = \"model.pkl\"\n",
    "    with open(model_save_path, \"wb\") as f:\n",
    "        pickle.dump(model, f)\n",
    "\n",
    "    mlflow.log_artifact(model_save_path)\n",
    "\n",
    "    # Log the model artifact\n",
    "    artifact = wandb.Artifact(\"trained_model\", type=\"model\")\n",
    "    artifact.add_file(model_save_path)\n",
    "    wandb.log_artifact(artifact)\n",
    "    \n",
    "mlflow.end_run()\n",
    "wandb.finish()"
   ]
  },
  {
   "attachments": {},
   "cell_type": "markdown",
   "id": "e401ba75-bccc-4abd-83ed-ba0b64011d99",
   "metadata": {},
   "source": [
    "model = implicit.als.AlternatingLeastSquares(\n",
    "    factors=20, regularization=0.1, iterations=20\n",
    ")\n",
    "alpha_val = 40\n",
    "data_conf = (sparse_user_item * alpha_val).astype(\"double\")\n",
    "model.fit(data_conf)"
   ]
  },
  {
   "cell_type": "code",
   "execution_count": 17,
   "id": "2e6b26ee-d52f-42f7-8821-a47322f1d0cd",
   "metadata": {},
   "outputs": [],
   "source": [
    "product_metadata = pd.read_json(\"data/meta_Movies_and_TV.json\", lines=True)"
   ]
  },
  {
   "cell_type": "code",
   "execution_count": 19,
   "id": "1ae0162f-c613-4798-8d08-1af3f98b721b",
   "metadata": {},
   "outputs": [],
   "source": [
    "product_metadata = pd.merge(\n",
    "    df[[\"item_id\"]],\n",
    "    product_metadata[[\"asin\", \"title\"]],\n",
    "    left_on=\"item_id\",\n",
    "    right_on=\"asin\",\n",
    "    how=\"left\",\n",
    ")"
   ]
  },
  {
   "cell_type": "code",
   "execution_count": 20,
   "id": "c4eddfb6-7181-49ef-a0b4-d848eaef9bb7",
   "metadata": {},
   "outputs": [
    {
     "data": {
      "text/html": [
       "<div>\n",
       "<style scoped>\n",
       "    .dataframe tbody tr th:only-of-type {\n",
       "        vertical-align: middle;\n",
       "    }\n",
       "\n",
       "    .dataframe tbody tr th {\n",
       "        vertical-align: top;\n",
       "    }\n",
       "\n",
       "    .dataframe thead th {\n",
       "        text-align: right;\n",
       "    }\n",
       "</style>\n",
       "<table border=\"1\" class=\"dataframe\">\n",
       "  <thead>\n",
       "    <tr style=\"text-align: right;\">\n",
       "      <th></th>\n",
       "      <th>item_id</th>\n",
       "      <th>asin</th>\n",
       "      <th>title</th>\n",
       "    </tr>\n",
       "  </thead>\n",
       "  <tbody>\n",
       "    <tr>\n",
       "      <th>0</th>\n",
       "      <td>6304174616</td>\n",
       "      <td>6304174616</td>\n",
       "      <td>Star Blazers Series 1: The Quest for Iscandar ...</td>\n",
       "    </tr>\n",
       "    <tr>\n",
       "      <th>1</th>\n",
       "      <td>6301049284</td>\n",
       "      <td>6301049284</td>\n",
       "      <td>Night in the Life of Jimmy Reardon VHS</td>\n",
       "    </tr>\n",
       "    <tr>\n",
       "      <th>2</th>\n",
       "      <td>6301049284</td>\n",
       "      <td>6301049284</td>\n",
       "      <td>Night in the Life of Jimmy Reardon VHS</td>\n",
       "    </tr>\n",
       "    <tr>\n",
       "      <th>3</th>\n",
       "      <td>6301049284</td>\n",
       "      <td>6301049284</td>\n",
       "      <td>Night in the Life of Jimmy Reardon VHS</td>\n",
       "    </tr>\n",
       "    <tr>\n",
       "      <th>4</th>\n",
       "      <td>6301049284</td>\n",
       "      <td>6301049284</td>\n",
       "      <td>Night in the Life of Jimmy Reardon VHS</td>\n",
       "    </tr>\n",
       "  </tbody>\n",
       "</table>\n",
       "</div>"
      ],
      "text/plain": [
       "      item_id        asin                                              title\n",
       "0  6304174616  6304174616  Star Blazers Series 1: The Quest for Iscandar ...\n",
       "1  6301049284  6301049284             Night in the Life of Jimmy Reardon VHS\n",
       "2  6301049284  6301049284             Night in the Life of Jimmy Reardon VHS\n",
       "3  6301049284  6301049284             Night in the Life of Jimmy Reardon VHS\n",
       "4  6301049284  6301049284             Night in the Life of Jimmy Reardon VHS"
      ]
     },
     "execution_count": 20,
     "metadata": {},
     "output_type": "execute_result"
    }
   ],
   "source": [
    "product_metadata.head()"
   ]
  },
  {
   "cell_type": "code",
   "execution_count": 21,
   "id": "d1b75b71-b1e4-4b47-8735-40eae5b19a74",
   "metadata": {},
   "outputs": [],
   "source": [
    "user_id2token = pd.Series(df.user_id.values, index=df.reviewerId).to_dict()\n",
    "item_id2token = pd.Series(df.item_id.values, index=df.asin).to_dict()"
   ]
  },
  {
   "cell_type": "code",
   "execution_count": 22,
   "id": "4d57a4aa-feb1-457f-a613-01673868e21e",
   "metadata": {},
   "outputs": [],
   "source": [
    "user_token2id = pd.Series(df.reviewerId.values, index=df.user_id).to_dict()\n",
    "item_token2id = pd.Series(df.asin.values, index=df.item_id).to_dict()"
   ]
  },
  {
   "cell_type": "code",
   "execution_count": 23,
   "id": "d9d4d24d-ac04-4041-9be0-92c3619d73d6",
   "metadata": {},
   "outputs": [],
   "source": [
    "def get_recommendations(user_id, N=10):\n",
    "    user_id = user_token2id[user_id]\n",
    "    print(\"Top recommended movies:\")\n",
    "    recommended = model.recommend(user_id, sparse_user_item_train[user_id], N)[0]\n",
    "    for i in recommended:\n",
    "        p_id = i\n",
    "        try:\n",
    "            p_name = product_metadata.loc[\n",
    "                product_metadata[\"asin\"] == item_id2token[p_id], \"title\"\n",
    "            ].values[0]\n",
    "            print(\"Id:{} Name:{}\".format(p_id, p_name))\n",
    "        except:\n",
    "            pass"
   ]
  },
  {
   "cell_type": "code",
   "execution_count": 24,
   "id": "f47f9c54-caba-4b71-9c3c-f9fdf0e1076e",
   "metadata": {},
   "outputs": [
    {
     "name": "stdout",
     "output_type": "stream",
     "text": [
      "Top recommended movies:\n",
      "Id:4902 Name:Willy Wonka &amp; the Chocolate Factory VHS\n",
      "Id:10618 Name:Kate &amp; Leopold\n",
      "Id:4503 Name:Persuasion VHS\n",
      "Id:10803 Name:The Sopranos - The Complete Third Season VHS\n",
      "Id:9563 Name:Lucky Number Slevin\n",
      "Id:9437 Name:Love Actually\n",
      "Id:2294 Name:Point Break VHS\n",
      "Id:9660 Name:Someone Like You\n",
      "Id:9637 Name:The Spiderwick Chronicles Field Guide Edition\n",
      "Id:1929 Name:Christmas Carol VHS\n"
     ]
    }
   ],
   "source": [
    "get_recommendations(\"A2YNL0PAKAQPRQ\")"
   ]
  },
  {
   "cell_type": "code",
   "execution_count": 25,
   "id": "339d09d6-aef7-496c-97b8-d6667041ac0c",
   "metadata": {},
   "outputs": [],
   "source": [
    "def get_similar_items(item_id, N=10):\n",
    "    item_id = item_token2id[item_id]\n",
    "    print(\"Query item:\")\n",
    "    p_name = product_metadata.loc[\n",
    "        product_metadata[\"asin\"] == item_id2token[item_id], \"title\"\n",
    "    ].values[0]\n",
    "    print(\"Id:{} Name:{}\".format(item_id2token[item_id], p_name))\n",
    "    print()\n",
    "    print(\"Top Recommendations:\")\n",
    "    recommended = model.similar_items(item_id, N)[0]\n",
    "    for i in recommended:\n",
    "        if i != item_id:\n",
    "            p_id = i\n",
    "            try:\n",
    "                p_name = product_metadata.loc[\n",
    "                    product_metadata[\"asin\"] == item_id2token[p_id], \"title\"\n",
    "                ].values[0]\n",
    "                print(\"Id:{} Name:{}\".format(item_id2token[p_id], p_name))\n",
    "            except:\n",
    "                pass"
   ]
  },
  {
   "cell_type": "code",
   "execution_count": 26,
   "id": "7e57b713-f409-4e17-aeaa-a9482ea7f3dc",
   "metadata": {},
   "outputs": [
    {
     "name": "stdout",
     "output_type": "stream",
     "text": [
      "Query item:\n",
      "Id:6304174616 Name:Star Blazers Series 1: The Quest for Iscandar 6pc  Coll  VHS\n",
      "\n",
      "Top Recommendations:\n",
      "Id:0005419263 Name:Steve Green: Hide 'em in Your Heart Volume 2: 13 Bible Memory Music Videos for Children VHS\n",
      "Id:0005164850 Name:Crusade: The Life of Billy Graham VHS\n",
      "Id:0005123968 Name:Cedarmont Kids: Action Bible Songs - 17 Classic Christian Songs for Kids Over 30 Minutes of Live Action Sing-A-Long Video  VHS\n",
      "Id:0005119367 Name:Joseph VHS\n",
      "Id:0005092663 Name:A NATION ADRIFT  A Chronicle of America's Providential Heritage VHS\n",
      "Id:0005089549 Name:Cathedral Quartet: A Reunion VHS\n",
      "Id:000503860X Name:Chapter X Live [VHS]\n",
      "Id:0005019281 Name:An American Christmas Carol VHS\n",
      "Id:0005000009 Name:Where Jesus Walked VHS\n",
      "Id:0001526863 Name:Steve Green: Hide 'em in Your Heart: 13 Bible Memory Music Videos for Children of All Ages VHS\n"
     ]
    }
   ],
   "source": [
    "get_similar_items(\"6304174616\")"
   ]
  }
 ],
 "metadata": {
  "kernelspec": {
   "display_name": "Python 3 (ipykernel)",
   "language": "python",
   "name": "python3"
  },
  "language_info": {
   "codemirror_mode": {
    "name": "ipython",
    "version": 3
   },
   "file_extension": ".py",
   "mimetype": "text/x-python",
   "name": "python",
   "nbconvert_exporter": "python",
   "pygments_lexer": "ipython3",
   "version": "3.9.16"
  }
 },
 "nbformat": 4,
 "nbformat_minor": 5
}
